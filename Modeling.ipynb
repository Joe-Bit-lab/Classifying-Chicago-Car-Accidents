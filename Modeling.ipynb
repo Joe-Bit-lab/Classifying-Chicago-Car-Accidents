{
 "cells": [
  {
   "cell_type": "code",
   "execution_count": null,
   "metadata": {},
   "outputs": [],
   "source": [
    "import pandas as pd\n",
    "import numpy as np\n",
    "import matplotlib.pyplot as plt\n",
    "%matplotlib inline\n",
    "import seaborn as sns\n",
    "\n",
    "from sklearn.model_selection import train_test_split\n",
    "from sklearn.model_selection import cross_val_score\n",
    "from sklearn.model_selection import GridSearchCV\n",
    "from sklearn.model_selection import RandomizedSearchCV\n",
    "\n",
    "from sklearn.dummy import DummyClassifier\n",
    "from sklearn.linear_model import LogisticRegression\n",
    "from sklearn.neighbors import KNeighborsClassifier\n",
    "from sklearn.tree import DecisionTreeClassifier\n",
    "from sklearn.ensemble import RandomForestClassifier\n",
    "from sklearn.preprocessing import StandardScaler, OneHotEncoder, OrdinalEncoder\n",
    "from sklearn.pipeline import Pipeline\n",
    "from sklearn.compose import ColumnTransformer\n",
    "\n",
    "from sklearn.metrics import accuracy_score\n",
    "from sklearn.metrics import classification_report\n",
    "\n",
    "\n",
    "from yellowbrick.model_selection import ValidationCurve\n",
    "from yellowbrick.classifier import ConfusionMatrix"
   ]
  },
  {
   "cell_type": "code",
   "execution_count": null,
   "metadata": {},
   "outputs": [],
   "source": [
    "df = pd.read_csv('Data_for_Modeling.csv')"
   ]
  },
  {
   "cell_type": "code",
   "execution_count": null,
   "metadata": {},
   "outputs": [],
   "source": [
    "df = df.drop(['Unnamed: 0','Unnamed: 0.1','crash_record_id','crash_date','injuries_total','street_no','street_name','location'], axis=1)"
   ]
  },
  {
   "cell_type": "code",
   "execution_count": null,
   "metadata": {},
   "outputs": [],
   "source": [
    "df_cat = df[['traffic_control_device','device_condition','weather_condition','lighting_condition','first_crash_type','trafficway_type','alignment',\\\n",
    "            'roadway_surface_cond','road_defect','crash_type','damage','sec_contributory_cause','most_severe_injury']]\n",
    "df_num = df[['posted_speed_limit','beat_of_occurrence','injuries_fatal','injuries_incapacitating','injuries_non_incapacitating',\\\n",
    "             'injuries_reported_not_evident','injuries_no_indication','crash_hour','crash_day_of_week','crash_month','num_passengers','latitude','longitude',\\\n",
    "             'num_passengers','vehicle_defect','sex','age','physical_condition']]"
   ]
  },
  {
   "cell_type": "code",
   "execution_count": null,
   "metadata": {},
   "outputs": [],
   "source": [
    "df_dummies = pd.get_dummies(df_cat)\n",
    "ss = StandardScaler()\n",
    "df_num_scaled = pd.DataFrame(ss.fit_transform(df_num), columns = ['posted_speed_limit','beat_of_occurrence','injuries_fatal','injuries_incapacitating',\\\n",
    "                                                                  'injuries_non_incapacitating','injuries_reported_not_evident','injuries_no_indication',\\\n",
    "                                                                  'crash_hour','crash_day_of_week','crash_month','num_passengers','latitude','longitude',\\\n",
    "                                                                  'num_passengers','vehicle_defect','sex','age','physical_condition'])\n",
    "df_final = pd.concat([df_num_scaled,df_dummies,df['prim_contributory_cause']],axis=1)\n",
    "df_final = df_final.dropna()\n",
    "df_final.shape\n",
    "df_sample = df_final.sample(n=10000)"
   ]
  },
  {
   "cell_type": "code",
   "execution_count": null,
   "metadata": {},
   "outputs": [],
   "source": [
    "X = df_sample.drop(columns=['prim_contributory_cause'])\n",
    "y = df_sample['prim_contributory_cause']\n",
    "X_train, X_test, y_train, y_test = train_test_split(X,y,test_size=0.2)"
   ]
  },
  {
   "cell_type": "code",
   "execution_count": null,
   "metadata": {},
   "outputs": [],
   "source": [
    "#Fitting a Dummy Model:\n",
    "dummy = DummyClassifier(strategy='most_frequent')\n",
    "dummy.fit(X_train, y_train)\n",
    "dummy.score(X_test, y_test)"
   ]
  },
  {
   "cell_type": "code",
   "execution_count": null,
   "metadata": {},
   "outputs": [],
   "source": [
    "logreg = LogisticRegression(max_iter=1000)\n",
    "logreg.fit(X_train, y_train, )\n",
    "logreg.score(X_train, y_train)"
   ]
  },
  {
   "cell_type": "code",
   "execution_count": null,
   "metadata": {},
   "outputs": [],
   "source": [
    "cm = ConfusionMatrix(logreg)\n",
    "\n",
    "cm.score(X_train, y_train)\n",
    "\n",
    "cm.poof()\n",
    "\n",
    "# Instantiate the classification model and visualizer\n",
    "y_pred=logreg.predict(X_train)\n",
    "print(classification_report(y_train, y_pred))"
   ]
  },
  {
   "cell_type": "code",
   "execution_count": null,
   "metadata": {},
   "outputs": [],
   "source": [
    "from sklearn.model_selection import cross_val_score\n",
    "cv = cross_val_score(logreg, X_train, y_train)\n",
    "cv"
   ]
  },
  {
   "cell_type": "code",
   "execution_count": null,
   "metadata": {},
   "outputs": [],
   "source": [
    "odds = pd.DataFrame(np.exp(logreg.coef_), columns=X.columns)\n",
    "odds = odds.T.rename(columns={0:'Coefficient Odds'})"
   ]
  },
  {
   "cell_type": "code",
   "execution_count": null,
   "metadata": {},
   "outputs": [],
   "source": [
    "odds = odds.sort_values(by='Coefficient Odds', ascending=False)"
   ]
  },
  {
   "cell_type": "code",
   "execution_count": null,
   "metadata": {},
   "outputs": [],
   "source": [
    "odds.head(10)"
   ]
  },
  {
   "cell_type": "code",
   "execution_count": null,
   "metadata": {},
   "outputs": [],
   "source": [
    "df.first_crash_type.value_counts()"
   ]
  }
 ],
 "metadata": {
  "kernelspec": {
   "display_name": "Python 3",
   "language": "python",
   "name": "python3"
  },
  "language_info": {
   "codemirror_mode": {
    "name": "ipython",
    "version": 3
   },
   "file_extension": ".py",
   "mimetype": "text/x-python",
   "name": "python",
   "nbconvert_exporter": "python",
   "pygments_lexer": "ipython3",
   "version": "3.7.4"
  }
 },
 "nbformat": 4,
 "nbformat_minor": 4
}
