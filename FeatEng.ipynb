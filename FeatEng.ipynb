{
 "cells": [
  {
   "cell_type": "code",
   "execution_count": null,
   "metadata": {},
   "outputs": [],
   "source": [
    "import pandas as pd\n",
    "import numpy as np"
   ]
  },
  {
   "cell_type": "code",
   "execution_count": null,
   "metadata": {},
   "outputs": [],
   "source": [
    "df = pd.read_csv('Data/Traffic_Crashes_Cleaned.csv')\n",
    "df.shape"
   ]
  },
  {
   "cell_type": "code",
   "execution_count": null,
   "metadata": {},
   "outputs": [],
   "source": [
    "df.prim_contributory_cause.value_counts()"
   ]
  },
  {
   "cell_type": "code",
   "execution_count": null,
   "metadata": {},
   "outputs": [],
   "source": [
    "#Binning the target variable: primary_contributory_cause:\n",
    "def label_states(row):\n",
    "    if row['prim_contributory_cause'] in ['operating vehicle in erratic, reckless, careless, negligent or aggressive manner',\\\n",
    "                                          'under the influence of alcohol/drugs (use when arrest is effected)',\\\n",
    "                                          'had been drinking (use when arrest is not made)','exceeding safe speed for conditions',\\\n",
    "                                          'exceeding authorized speed limit','improper overtaking/passing','passing stopped school bus',\\\n",
    "                                          'texting','distraction - other electronic device (navigation device, dvd player, etc.)',\\\n",
    "                                          'cell phone use other than texting','driving on wrong side/wrong way','improper turning/no signal',\\\n",
    "                                          'improper lane usage','following too closely']:\n",
    "        return 'criminal_driving'\n",
    "    \n",
    "    if row['prim_contributory_cause'] in ['failing to yield right-of-way','motorcycle advancing legally on red light',\\\n",
    "                                          'bicycle advancing legally on red light','related to bus stop','disregarding yield sign','turning right on red',\\\n",
    "                                          'disregarding road markings','disregarding other traffic signs','physical condition of driver',\\\n",
    "                                          'distraction - from inside vehicle','disregarding traffic signals','disregarding stop sign',\\\n",
    "                                          'driving skills/knowledge/experience','failing to reduce speed to avoid crash','improper backing']:\n",
    "        return 'non_criminal_driving'\n",
    "    \n",
    "    if row['prim_contributory_cause'] in ['animal','evasive action due to animal, object, nonmotorist','road construction/maintenance',\\\n",
    "                                          'road engineering/surface/marking defects','vision obscured (signs, tree limbs, buildings, etc.)',\\\n",
    "                                          'equipment - vehicle condition','weather','obstructed crosswalks','distraction - from outside vehicle']:\n",
    "        return 'act_of_god'\n",
    "    \n",
    "    if row['prim_contributory_cause'] in ['unable to determine','not applicable']:\n",
    "        return 'undetermined'\n",
    "    \n",
    "df['prim_contributory_cause'] = df.apply(lambda row: label_states(row), axis=1)"
   ]
  },
  {
   "cell_type": "code",
   "execution_count": null,
   "metadata": {},
   "outputs": [],
   "source": [
    "df.prim_contributory_cause = df.prim_contributory_cause.replace(to_replace='undetermined', value=np.nan)\n",
    "df.prim_contributory_cause = df.prim_contributory_cause.replace(to_replace='act_of_god', value=np.nan)\n",
    "df.dropna()"
   ]
  },
  {
   "cell_type": "code",
   "execution_count": null,
   "metadata": {},
   "outputs": [],
   "source": [
    "df.to_csv('Data_for_Modeling.csv')"
   ]
  }
 ],
 "metadata": {
  "kernelspec": {
   "display_name": "Python 3",
   "language": "python",
   "name": "python3"
  },
  "language_info": {
   "codemirror_mode": {
    "name": "ipython",
    "version": 3
   },
   "file_extension": ".py",
   "mimetype": "text/x-python",
   "name": "python",
   "nbconvert_exporter": "python",
   "pygments_lexer": "ipython3",
   "version": "3.7.4"
  }
 },
 "nbformat": 4,
 "nbformat_minor": 4
}
